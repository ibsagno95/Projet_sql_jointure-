{
 "cells": [
  {
   "cell_type": "markdown",
   "metadata": {},
   "source": [
    "# Importation
   ]
  },
  {
   "cell_type": "code",
   "execution_count": 1,
   "metadata": {},
   "outputs": [],
   "source": [
    "from pyspark.sql import SparkSession\n",
    "from pyspark import SparkContext, SparkConf \n",
    "from pyspark.sql.functions import col\n",
    "from pyspark.sql.types import *\n",
    "from pyspark.sql import functions as F"
   ]
  },
  {
   "cell_type": "markdown",
   "metadata": {},
   "source": [
    "# Instancier le client Spark Session"
   ]
  },
  {
   "cell_type": "code",
   "execution_count": 2,
   "metadata": {},
   "outputs": [],
   "source": [
    "spark = SparkSession.builder\\\n",
    "                    .master(\"local[*]\")\\\n",
    "                    .appName(\"CreateTable\")\\\n",
    "                    .getOrCreate()"
   ]
  },
  {
   "cell_type": "markdown",
   "metadata": {},
   "source": [
    "# Création des tables"
   ]
  },
  {
   "cell_type": "code",
   "execution_count": 3,
   "metadata": {},
   "outputs": [
    {
     "name": "stdout",
     "output_type": "stream",
     "text": [
      "+---+------+\n",
      "| id|Adress|\n",
      "+---+------+\n",
      "| 75| Paris|\n",
      "| 51| Reims|\n",
      "| 06|  Nice|\n",
      "+---+------+\n",
      "\n"
     ]
    }
   ],
   "source": [
    "Adresse = sc.parallelize([[\"75\",\"Paris\"], [\"51\",\"Reims\"], [\"06\",\"Nice\"]]).toDF((\"id\", \"Adress\"))\n",
    "Adresse.show()\n",
    "Adresse.createOrReplaceTempView(\"Adresse_sql\")"
   ]
  },
  {
   "cell_type": "code",
   "execution_count": 4,
   "metadata": {},
   "outputs": [
    {
     "name": "stdout",
     "output_type": "stream",
     "text": [
      "+---+----+\n",
      "|IDM|Prix|\n",
      "+---+----+\n",
      "|  1|  10|\n",
      "|  2|  20|\n",
      "|  3|  70|\n",
      "+---+----+\n",
      "\n"
     ]
    }
   ],
   "source": [
    "Prix = sc.parallelize([[\"1\",\"10\"], [\"2\",\"20\"], [\"3\",\"70\"]]).toDF((\"IDM\", \"Prix\"))\n",
    "Prix.show()\n",
    "Prix.createOrReplaceTempView(\"Prix_sql\")"
   ]
  },
  {
   "cell_type": "code",
   "execution_count": 5,
   "metadata": {},
   "outputs": [
    {
     "name": "stdout",
     "output_type": "stream",
     "text": [
      "+---+-------+-------+\n",
      "|IDM| Marque|Produit|\n",
      "+---+-------+-------+\n",
      "|  1|   Sony| Souris|\n",
      "|  2|Samsung|Clavier|\n",
      "|  3|  Apple|  Ecran|\n",
      "+---+-------+-------+\n",
      "\n"
     ]
    }
   ],
   "source": [
    "Produit = sc.parallelize([[\"1\",\"Sony\",\"Souris\"], [\"2\",\"Samsung\",\"Clavier\"], [\"3\",\"Apple\",\"Ecran\"]]).toDF((\"IDM\", \"Marque\",\"Produit\"))\n",
    "Produit.show()\n",
    "Produit.createOrReplaceTempView(\"Produit_sql\")"
   ]
  },
  {
   "cell_type": "code",
   "execution_count": 6,
   "metadata": {},
   "outputs": [
    {
     "name": "stdout",
     "output_type": "stream",
     "text": [
      "+-------+------+------+--------+-----+\n",
      "|Article|Agence|Client|Quantite|Annee|\n",
      "+-------+------+------+--------+-----+\n",
      "|      3|    75|  toto|       2| 2021|\n",
      "|      2|    75|  toto|       1| 2020|\n",
      "|      1|    51|  toto|       5| 2021|\n",
      "|      2|    51|  fofo|       6| 2021|\n",
      "+-------+------+------+--------+-----+\n",
      "\n"
     ]
    }
   ],
   "source": [
    "Vente = sc.parallelize([[\"3\",\"75\",\"toto\",\"2\",\"2021\"], [\"2\",\"75\",\"toto\",\"1\",\"2020\"], [\"1\",\"51\",\"toto\",\"5\",\"2021\"],[\"2\",\"51\",\"fofo\",\"6\",\"2021\"]]).toDF((\"Article\", \"Agence\",\"Client\",\"Quantite\",\"Annee\"))\n",
    "Vente.show()\n",
    "Vente.createOrReplaceTempView(\"Vente_sql\")"
   ]
  },
  {
   "cell_type": "markdown",
   "metadata": {},
   "source": [
    "# Déterminer les prix de chaque produit"
   ]
  },
  {
   "cell_type": "code",
   "execution_count": 7,
   "metadata": {},
   "outputs": [
    {
     "name": "stdout",
     "output_type": "stream",
     "text": [
      "+-------+-------+----+\n",
      "| Marque|Produit|Prix|\n",
      "+-------+-------+----+\n",
      "|  Apple|  Ecran|  70|\n",
      "|   Sony| Souris|  10|\n",
      "|Samsung|Clavier|  20|\n",
      "+-------+-------+----+\n",
      "\n",
      "+-------+-------+----+\n",
      "| Marque|Produit|Prix|\n",
      "+-------+-------+----+\n",
      "|  Apple|  Ecran|  70|\n",
      "|   Sony| Souris|  10|\n",
      "|Samsung|Clavier|  20|\n",
      "+-------+-------+----+\n",
      "\n"
     ]
    }
   ],
   "source": [
    "#DSL\n",
    "Produit.join(Prix,[\"Idm\"]).drop(col(\"Idm\")).show()\n",
    "\n",
    "\n",
    "#SQL\n",
    "spark.sql(\"\"\"SELECT Marque, Produit, Prix from Produit_sql\n",
    "    left join Prix_sql\n",
    "    on Produit_sql.IDM=Prix_sql.IDM\"\"\").show()"
   ]
  },
  {
   "cell_type": "markdown",
   "metadata": {},
   "source": [
    "# Déterminer les articles que toto a acheté en 2021"
   ]
  },
  {
   "cell_type": "code",
   "execution_count": 11,
   "metadata": {},
   "outputs": [
    {
     "name": "stdout",
     "output_type": "stream",
     "text": [
      "+------+-------+------+-----+\n",
      "|Client|Produit|Marque|Annee|\n",
      "+------+-------+------+-----+\n",
      "|  toto|  Ecran| Apple| 2021|\n",
      "|  toto| Souris|  Sony| 2021|\n",
      "+------+-------+------+-----+\n",
      "\n",
      "+------+-------+------+-----+\n",
      "|Client|Produit|Marque|Annee|\n",
      "+------+-------+------+-----+\n",
      "|  toto|  Ecran| Apple| 2021|\n",
      "|  toto| Souris|  Sony| 2021|\n",
      "+------+-------+------+-----+\n",
      "\n"
     ]
    }
   ],
   "source": [
    "#DSL\n",
    "Vente.join(Produit, col(\"Article\") == col(\"Idm\"))\\\n",
    "     .select(\"Client\",\"Produit\",\"Marque\",\"Annee\")\\\n",
    "     .filter(col(\"Annee\") == \"2021\")\\\n",
    "     .filter(col(\"Client\") == \"toto\")\\\n",
    "     .show()\n",
    "\n",
    "#SQL\n",
    "spark.sql(\"\"\"SELECT Client, Produit, Marque, Annee from Produit_sql\n",
    "        left join Vente_sql\n",
    "        on Produit_sql.IDM=Vente_sql.Article\n",
    "        WHERE Vente_sql.Client=\"toto\"\n",
    "        and Vente_sql.Annee=\"2021\" \"\"\").show()"
   ]
  },
  {
   "cell_type": "markdown",
   "metadata": {},
   "source": [
    "# Montant dépensé par toto par agence"
   ]
  },
  {
   "cell_type": "code",
   "execution_count": 23,
   "metadata": {},
   "outputs": [
    {
     "name": "stdout",
     "output_type": "stream",
     "text": [
      "+------+-------+\n",
      "|Agence|Montant|\n",
      "+------+-------+\n",
      "|    51|   50.0|\n",
      "|    75|  160.0|\n",
      "+------+-------+\n",
      "\n",
      "+------+------+-------+\n",
      "|Client|Agence|Montant|\n",
      "+------+------+-------+\n",
      "|  toto|    51|   50.0|\n",
      "|  toto|    75|  160.0|\n",
      "+------+------+-------+\n",
      "\n"
     ]
    }
   ],
   "source": [
    "#DSL\n",
    "df = Vente.join(Prix, col(\"Article\") == col(\"Idm\"))\\\n",
    "     .filter(col(\"client\") == \"toto\")\\\n",
    "     .withColumn(\"PrixTotal\", col(\"Quantite\")*col(\"Prix\").cast(IntegerType()))\\\n",
    "     .groupBy(\"Agence\")\\\n",
    "     .agg(F.sum('PrixTotal').alias('Montant'))\\\n",
    "     .show()\n",
    "\n",
    "#SQL\n",
    "spark.sql(\"\"\"SELECT Client, Agence, sum(Prix*Quantite) as Montant from Vente_sql\n",
    "        left join Prix_sql\n",
    "        on Vente_sql.Article=Prix_sql.IDM\n",
    "        WHERE Vente_sql.Client=\"toto\" \n",
    "        GROUP BY Vente_sql.agence, Vente_sql.client\"\"\").show()"
   ]
  },
  {
   "cell_type": "markdown",
   "metadata": {},
   "source": [
    "# Déterminer le CA pour chaque agence en 2021"
   ]
  },
  {
   "cell_type": "code",
   "execution_count": 29,
   "metadata": {},
   "outputs": [
    {
     "name": "stdout",
     "output_type": "stream",
     "text": [
      "+------+-----+\n",
      "|Agence|   CA|\n",
      "+------+-----+\n",
      "|    51|170.0|\n",
      "|    75|140.0|\n",
      "+------+-----+\n",
      "\n",
      "+-----+------+-----+\n",
      "|Annee|Agence|   CA|\n",
      "+-----+------+-----+\n",
      "| 2021|    75|140.0|\n",
      "| 2021|    51|170.0|\n",
      "+-----+------+-----+\n",
      "\n"
     ]
    }
   ],
   "source": [
    "#DSL\n",
    "Vente.join(Prix, col(\"Article\") == col(\"Idm\"))\\\n",
    "    .filter(col(\"Annee\") == 2021)\\\n",
    "    .groupBy(col(\"Agence\"))\\\n",
    "    .agg(F.sum(col(\"quantite\")*col(\"Prix\")).alias(\"CA\"))\\\n",
    "    .show()\n",
    "\n",
    "#SQL\n",
    "spark.sql(\"\"\"SELECT Annee, Agence, sum(Prix*Quantite) as CA from Vente_sql\n",
    "     left join Prix_sql\n",
    "     on Vente_sql.Article=Prix_sql.IDM\n",
    "     WHERE Vente_sql.Annee=\"2021\"\n",
    "     GROUP BY Vente_sql.agence, Vente_sql.Annee \"\"\").show()"
   ]
  },
  {
   "cell_type": "markdown",
   "metadata": {},
   "source": [
    "# Quel est le produit qui a le plus été acheté en 2021 ? "
   ]
  },
  {
   "cell_type": "code",
   "execution_count": 36,
   "metadata": {},
   "outputs": [
    {
     "name": "stdout",
     "output_type": "stream",
     "text": [
      "+-------+--------+\n",
      "|Produit|Quantite|\n",
      "+-------+--------+\n",
      "|Clavier|       6|\n",
      "+-------+--------+\n",
      "\n",
      "+-------+--------+\n",
      "|Produit|Quantite|\n",
      "+-------+--------+\n",
      "|Clavier|       6|\n",
      "+-------+--------+\n",
      "\n"
     ]
    }
   ],
   "source": [
    "#DSL\n",
    "Vente.join(Produit, col(\"Article\") == col(\"Idm\"))\\\n",
    "    .filter(col(\"Annee\") == 2021)\\\n",
    "    .groupBy(col(\"Produit\"))\\\n",
    "    .agg(F.max(\"Quantite\").alias(\"Quantite\"))\\\n",
    "    .sort(\"Quantite\", ascending=False)\\\n",
    "    .limit(1)\\\n",
    "    .show()\n",
    "\n",
    "#SQL\n",
    "spark.sql(\"\"\"SELECT Produit, Quantite from Vente_sql\n",
    "        left join Produit_sql\n",
    "        on Vente_sql.Article=Produit_sql.IDM\n",
    "        WHERE Vente_sql.Annee=\"2021\"\n",
    "        AND Quantite=(SELECT MAX(Quantite) FROM Vente_sql)\n",
    "        \"\"\").show()"
   ]
  },
  {
   "cell_type": "markdown",
   "metadata": {},
   "source": [
    "# Quel est le client qui a acheté le plus d’article ?  "
   ]
  },
  {
   "cell_type": "code",
   "execution_count": 43,
   "metadata": {},
   "outputs": [
    {
     "name": "stdout",
     "output_type": "stream",
     "text": [
      "+------+-------+\n",
      "|Client|Article|\n",
      "+------+-------+\n",
      "|  toto|    8.0|\n",
      "+------+-------+\n",
      "\n",
      "+------+-------+\n",
      "|Client|Article|\n",
      "+------+-------+\n",
      "|  toto|    8.0|\n",
      "+------+-------+\n",
      "\n"
     ]
    }
   ],
   "source": [
    "#DSL\n",
    "Vente.groupBy(col(\"Client\"))\\\n",
    "    .agg(F.sum(\"quantite\").alias(\"Article\"))\\\n",
    "    .sort(col(\"Article\"), ascending=False)\\\n",
    "    .limit(1)\\\n",
    "    .show()\n",
    "\n",
    "\n",
    "#SQL\n",
    "spark.sql(\"\"\"SELECT Client, sum(Quantite) as Article  from Vente_sql\n",
    "          GROUP BY Client\n",
    "          ORDER BY Article DESC LIMIT 1\"\"\").show()\n"
   ]
  },
  {
   "cell_type": "markdown",
   "metadata": {},
   "source": [
    "# Qui est le client qui a dépensé le plus d’argent ? "
   ]
  },
  {
   "cell_type": "code",
   "execution_count": 47,
   "metadata": {},
   "outputs": [
    {
     "name": "stdout",
     "output_type": "stream",
     "text": [
      "+------+-------+\n",
      "|Client|Montant|\n",
      "+------+-------+\n",
      "|  toto|  210.0|\n",
      "+------+-------+\n",
      "\n",
      "+------+-------+\n",
      "|Client|Montant|\n",
      "+------+-------+\n",
      "|  toto|  210.0|\n",
      "+------+-------+\n",
      "\n"
     ]
    }
   ],
   "source": [
    "#DSL\n",
    "Vente.join(Prix, col(\"Article\") == col(\"Idm\"))\\\n",
    "    .groupBy(col(\"Client\"))\\\n",
    "    .agg(F.sum(col(\"quantite\")*col(\"Prix\")).alias(\"Montant\"))\\\n",
    "    .sort(col(\"Montant\"), ascending=False)\\\n",
    "    .limit(1)\\\n",
    "    .show()\n",
    "\n",
    "#SQL       \n",
    "spark.sql(\"\"\"SELECT Client, sum(Quantite*Prix) as Montant from Vente_sql\n",
    "        left join Prix_sql\n",
    "        on Vente_sql.Article=Prix_sql.IDM\n",
    "        GROUP BY Vente_sql.client\n",
    "        ORDER BY Montant DESC LIMIT 1 \"\"\").show()"
   ]
  }
 ],
 "metadata": {
  "kernelspec": {
   "display_name": "Python 3",
   "language": "python",
   "name": "python3"
  },
  "language_info": {
   "codemirror_mode": {
    "name": "ipython",
    "version": 3
   },
   "file_extension": ".py",
   "mimetype": "text/x-python",
   "name": "python",
   "nbconvert_exporter": "python",
   "pygments_lexer": "ipython3",
   "version": "3.8.3"
  }
 },
 "nbformat": 4,
 "nbformat_minor": 4
}
